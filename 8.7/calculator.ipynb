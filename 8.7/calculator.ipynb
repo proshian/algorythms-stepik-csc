{
  "nbformat": 4,
  "nbformat_minor": 0,
  "metadata": {
    "colab": {
      "name": "calculator.ipynb",
      "provenance": []
    },
    "kernelspec": {
      "name": "python3",
      "display_name": "Python 3"
    },
    "language_info": {
      "name": "python"
    }
  },
  "cells": [
    {
      "cell_type": "markdown",
      "source": [
        "# Калькулятор"
      ],
      "metadata": {
        "id": "OCkJzFjtvpyt"
      }
    },
    {
      "cell_type": "markdown",
      "source": [
        "## Условие"
      ],
      "metadata": {
        "id": "httYhZ-lvweL"
      }
    },
    {
      "cell_type": "markdown",
      "source": [
        "У вас есть примитивный калькулятор, который умеет выполнять всего три операции с текущим числом $x$: заменить $x$ на $2x$, $3x$ или $x+1$. По данному целому числу $1 \\le n \\le 10^5$\n",
        "  определите минимальное число операций $k$, необходимое, чтобы получить $n$ из $1$. Выведите $k$ и последовательность промежуточных чисел."
      ],
      "metadata": {
        "id": "0-NH4Un7v957"
      }
    },
    {
      "cell_type": "markdown",
      "source": [
        "## Подзадачи"
      ],
      "metadata": {
        "id": "XxMCrkb58ZM9"
      }
    },
    {
      "cell_type": "markdown",
      "source": [
        "Последняя операция оптимального решения - одна из 3-ех возможных <br>\n",
        "Пусть D[i] - минимальное число операций, чтобы получить из 1 i <br>\n",
        "\n",
        "D[i] = min(D[i/2], D[i/3], D[i-1]) <br>\n",
        "Нужно отметить, что если в оптимальном решении отменить последнее действие, получим оптимальное решение для меньшего n "
      ],
      "metadata": {
        "id": "TmVxUl-ixGcr"
      }
    },
    {
      "cell_type": "markdown",
      "source": [
        "## Снизу вверх"
      ],
      "metadata": {
        "id": "9lbFChLY8b7H"
      }
    },
    {
      "cell_type": "code",
      "source": [
        "def get_sequence(D):\n",
        "    result = [len(D) - 1]\n",
        "    min_op = D[len(D) - 1] - 1\n",
        "    while(min_op >= 0):\n",
        "        if result[-1] % 3 == 0 and D[result[-1] // 3] == min_op:\n",
        "            result.append(result[-1] // 3)\n",
        "        elif result[-1] % 2 == 0 and D[result[-1] // 2] == min_op:\n",
        "            result.append(result[-1] // 2)\n",
        "        else:\n",
        "            result.append(result[-1] - 1)\n",
        "        min_op -= 1\n",
        "    result.reverse()\n",
        "    return result\n",
        "\n",
        "def calculatorBU(n):\n",
        "    D = [0] * (n + 1)\n",
        "    for i in range(2, n + 1):\n",
        "        D[i] = D[i - 1] + 1\n",
        "        if i % 3 == 0:\n",
        "            D[i] = min(D[i], D[i//3] + 1)\n",
        "        if i % 2 == 0:\n",
        "            D[i] = min(D[i], D[i//2] + 1)\n",
        "    return D[n], D\n",
        "\n",
        "if __name__ == \"__main__\":\n",
        "    n = int(input())\n",
        "    min_op, D = calculatorBU(n)\n",
        "    print(min_op)\n",
        "    print(*get_sequence(D))"
      ],
      "metadata": {
        "id": "L63OjIeI70DU"
      },
      "execution_count": null,
      "outputs": []
    }
  ]
}