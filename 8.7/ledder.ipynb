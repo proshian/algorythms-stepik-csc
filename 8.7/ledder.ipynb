{
  "cells": [
    {
      "cell_type": "markdown",
      "metadata": {
        "id": "jWGlqgTGWpGD"
      },
      "source": [
        "#Лестница"
      ]
    },
    {
      "cell_type": "markdown",
      "metadata": {
        "id": "mIN5WY54te2D"
      },
      "source": [
        "## Условие"
      ]
    },
    {
      "cell_type": "markdown",
      "metadata": {
        "id": "AC4vBRPMWsi5"
      },
      "source": [
        "Даны число 1 $\\le n \\le 10^2$\n",
        "  ступенек лестницы и целые числа $-10^4 \\le a_1, \\ldots, a_n \\le 10^4$\n",
        " , которыми помечены ступеньки. Найдите максимальную сумму, которую можно получить, идя по лестнице снизу вверх (от нулевой до $n$-й ступеньки), каждый раз поднимаясь на одну или две ступеньки."
      ]
    },
    {
      "cell_type": "markdown",
      "metadata": {
        "id": "F8VY5lBrtinI"
      },
      "source": [
        "## Подзадачи"
      ]
    },
    {
      "cell_type": "markdown",
      "metadata": {
        "id": "zZMuI_nGXd64"
      },
      "source": [
        "Мы знаем, что последний шаг - это $n$-ая ступенька. Предыдущая посещенная ступенька − либо $n-1$, либо $n-2$. <br>\n",
        "Пусть D[i] − максимальная сумма для ступенек с индекксами от 0 до i. Тогда: <br>\n",
        "D[i] = max(D[i-1], D[i-2]) +  $a_i$"
      ]
    },
    {
      "cell_type": "markdown",
      "metadata": {
        "id": "81_PDUUwo_z8"
      },
      "source": [
        "## Сверху вниз"
      ]
    },
    {
      "cell_type": "code",
      "execution_count": null,
      "metadata": {
        "id": "YoDf3jzkgnQM"
      },
      "outputs": [],
      "source": [
        "from functools import lru_cache\n",
        "\n",
        "def ladderTD(n, steps):\n",
        "    @lru_cache(maxsize = None)\n",
        "    def D(i):\n",
        "        if i == 0:\n",
        "            return 0\n",
        "        if i == 1:\n",
        "            return steps[0]\n",
        "        return max(D(i-1), D(i-2)) + steps[i - 1]\n",
        "    \n",
        "    return D(n)\n",
        "\n",
        "if __name__ == \"__main__\":\n",
        "    n = int(input())\n",
        "    steps = list(map(int, input().split()))\n",
        "    print(ladderTD(n, steps))"
      ]
    },
    {
      "cell_type": "markdown",
      "metadata": {
        "id": "el9mEqvgpErd"
      },
      "source": [
        "## Снизу вверх"
      ]
    },
    {
      "cell_type": "code",
      "execution_count": 13,
      "metadata": {
        "colab": {
          "base_uri": "https://localhost:8080/"
        },
        "id": "PeeNT53AXbUg",
        "outputId": "dfcb3717-5439-4bec-dfdc-d6ebf13f29b1"
      },
      "outputs": [
        {
          "name": "stdout",
          "output_type": "stream",
          "text": [
            "3\n",
            "-1 2 1\n"
          ]
        }
      ],
      "source": [
        "def ledderBU(n, steps):\n",
        "    inf = 10**6\n",
        "    D = [-inf]*(n + 1)\n",
        "    D[0] = 0\n",
        "    D[1] = steps[0]\n",
        "\n",
        "    for i in range(2, n + 1):\n",
        "        D[i] = max(D[i-1], D[i-2]) + steps[i - 1]\n",
        "    return D[n]\n",
        "\n",
        "if __name__ == \"__main__\":\n",
        "    n = int(input())\n",
        "    steps = list(map(int, input().split()))\n",
        "    print(ledderBU(n, steps))"
      ]
    },
    {
      "cell_type": "markdown",
      "metadata": {
        "id": "blTOeTxqpIvo"
      },
      "source": [
        "## Снизу вверх, храним две ячейки"
      ]
    },
    {
      "cell_type": "code",
      "execution_count": null,
      "metadata": {
        "id": "fobhEgCrs6C7"
      },
      "outputs": [],
      "source": [
        "def ledderBU_reduced(n, steps):\n",
        "    prev = 0\n",
        "    cur = steps[0]\n",
        "\n",
        "    for step in steps[1:]:\n",
        "        new_cur = max(prev, cur) + step\n",
        "        prev, cur = cur, new_cur\n",
        "    return cur\n",
        "\n",
        "if __name__ == \"__main__\":\n",
        "    n = int(input())\n",
        "    steps = list(map(int, input().split()))\n",
        "    print(ledderBU_reduced(n, steps))"
      ]
    }
  ],
  "metadata": {
    "colab": {
      "name": "ledder.ipynb",
      "provenance": []
    },
    "kernelspec": {
      "display_name": "Python 3",
      "name": "python3"
    },
    "language_info": {
      "name": "python"
    }
  },
  "nbformat": 4,
  "nbformat_minor": 0
}
