{
  "nbformat": 4,
  "nbformat_minor": 0,
  "metadata": {
    "colab": {
      "name": "ledder.ipynb",
      "provenance": []
    },
    "kernelspec": {
      "name": "python3",
      "display_name": "Python 3"
    },
    "language_info": {
      "name": "python"
    }
  },
  "cells": [
    {
      "cell_type": "markdown",
      "source": [
        "#Лестница"
      ],
      "metadata": {
        "id": "jWGlqgTGWpGD"
      }
    },
    {
      "cell_type": "markdown",
      "source": [
        "## Условие"
      ],
      "metadata": {
        "id": "mIN5WY54te2D"
      }
    },
    {
      "cell_type": "markdown",
      "source": [
        "Даны число 1 $\\le n \\le 10^2$\n",
        "  ступенек лестницы и целые числа $-10^4 \\le a_1, \\ldots, a_n \\le 10^4$\n",
        " , которыми помечены ступеньки. Найдите максимальную сумму, которую можно получить, идя по лестнице снизу вверх (от нулевой до $n$-й ступеньки), каждый раз поднимаясь на одну или две ступеньки."
      ],
      "metadata": {
        "id": "AC4vBRPMWsi5"
      }
    },
    {
      "cell_type": "markdown",
      "source": [
        "## Подзадачи"
      ],
      "metadata": {
        "id": "F8VY5lBrtinI"
      }
    },
    {
      "cell_type": "markdown",
      "source": [
        "Мы знаем, что последний шаг - это $n$-ая ступенька. Предыдущая посещенная ступенька − либо $n-1$, либо $n-2$. <br>\n",
        "Пусть D[i] − максимальная сумма для ступенек с индекксами от 0 до i. Тогда: <br>\n",
        "D[i] = max(D[i-1], D[i-2]) +  $a_i$"
      ],
      "metadata": {
        "id": "zZMuI_nGXd64"
      }
    },
    {
      "cell_type": "markdown",
      "source": [
        "## Сверху вниз"
      ],
      "metadata": {
        "id": "81_PDUUwo_z8"
      }
    },
    {
      "cell_type": "code",
      "source": [
        "from functools import lru_cache\n",
        "\n",
        "def ladderTD(n, steps):\n",
        "    @lru_cache(maxsize = None)\n",
        "    def D(i):\n",
        "        if i == 0:\n",
        "            return 0\n",
        "        if i == 1:\n",
        "            return steps[0]\n",
        "        return max(D(i-1), D(i-2)) + steps[i - 1]\n",
        "    \n",
        "    return D(n)\n",
        "\n",
        "if __name__ == \"__main__\":\n",
        "    n = int(input())\n",
        "    steps = list(map(int, input().split()))\n",
        "    print(ladderTD(n, steps))"
      ],
      "metadata": {
        "id": "YoDf3jzkgnQM"
      },
      "execution_count": null,
      "outputs": []
    },
    {
      "cell_type": "markdown",
      "source": [
        "## Снизу вверх"
      ],
      "metadata": {
        "id": "el9mEqvgpErd"
      }
    },
    {
      "cell_type": "code",
      "source": [
        "def ledderBU(n, steps):\n",
        "    inf = 10**6\n",
        "    D = [-inf]*(n + 1)\n",
        "    D[0] = 0\n",
        "    D[1] = steps[0]\n",
        "\n",
        "    for i in range(2, n + 1):\n",
        "        D[i] = max(D[i-1], D[i-2]) + steps[i - 1]\n",
        "    return D[n]\n",
        "\n",
        "if __name__ == \"__main__\":\n",
        "    n = int(input())\n",
        "    steps = list(map(int, input().split()))\n",
        "    print(ledderBU(n, steps))"
      ],
      "metadata": {
        "colab": {
          "base_uri": "https://localhost:8080/"
        },
        "id": "PeeNT53AXbUg",
        "outputId": "dfcb3717-5439-4bec-dfdc-d6ebf13f29b1"
      },
      "execution_count": 13,
      "outputs": [
        {
          "name": "stdout",
          "output_type": "stream",
          "text": [
            "3\n",
            "-1 2 1\n"
          ]
        }
      ]
    },
    {
      "cell_type": "markdown",
      "source": [
        "## Сверху вниз, храним три ячейки"
      ],
      "metadata": {
        "id": "blTOeTxqpIvo"
      }
    },
    {
      "cell_type": "code",
      "source": [
        "def ledderBU_reduced(n, steps):\n",
        "    prev = 0\n",
        "    cur = steps[0]\n",
        "\n",
        "    for step in steps[1:]:\n",
        "        new_cur = max(prev, cur) + step\n",
        "        prev, cur = cur, new_cur\n",
        "    return cur\n",
        "\n",
        "if __name__ == \"__main__\":\n",
        "    n = int(input())\n",
        "    steps = list(map(int, input().split()))\n",
        "    print(ledderBU_reduced(n, steps))"
      ],
      "metadata": {
        "id": "fobhEgCrs6C7"
      },
      "execution_count": null,
      "outputs": []
    }
  ]
}